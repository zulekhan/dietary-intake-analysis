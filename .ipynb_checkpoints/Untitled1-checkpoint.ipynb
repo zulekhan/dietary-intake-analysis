{
 "cells": [
  {
   "cell_type": "markdown",
   "id": "b36a8b0a-8fd7-4032-949a-2b8da46e5cd3",
   "metadata": {},
   "source": [
    "# **Gender Differences in Dietary Intake: A Statistical Analysis**\n",
    "\n",
    "## **Project Overview**\n",
    "This project analyzes gender-based differences in dietary intake using data from the **National Health and Nutrition Examination Survey (NHANES)**. The goal is to determine whether males and females have significantly different consumption patterns for **calories, protein, carbohydrates, and fats**.\n",
    "\n",
    "### **Research Questions**\n",
    "1. Do males and females consume different amounts of **total calories**?\n",
    "2. Are there significant differences in **protein, carbohydrate, and fat intake** between genders?\n",
    "3. What insights can be drawn from dietary trends, and how might they inform public health recommendations?\n",
    "\n",
    "---\n",
    "\n",
    "## **Methodology**\n",
    "1. **Data Collection**: We used two datasets from NHANES, available on Kaggle.\n",
    "2. **Data Cleaning & Merging**: We filtered and combined the datasets based on participant ID (`SEQN`).\n",
    "3. **Exploratory Data Analysis (EDA)**: We computed summary statistics and visualized data using bar plots and boxplots.\n",
    "4. **Statistical Testing**: We conducted an **independent t-test** to compare dietary intake between males and females.\n",
    "5. **Interpretation & Discussion**: We evaluated findings and suggested potential implications.\n",
    "\n",
    "---\n",
    "\n",
    "## **Datasets Used**\n",
    "| Dataset | Description | Link |\n",
    "|---------|------------|------|\n",
    "| **Demographic Data** (`demographic.csv`) | Contains participant information, including gender. | [Download Here](https://www.kaggle.com/datasets/cdc/national-health-and-nutrition-examination-survey?resource=download&select=demographic.csv) |\n",
    "| **Dietary Data** (`diet.csv`) | Contains daily food intake details, including calorie and macronutrient consumption. | [Download Here](https://www.kaggle.com/datasets/cdc/national-health-and-nutrition-examination-survey?resource=download&select=diet.csv) |\n",
    "\n",
    "---\n",
    "\n",
    "## **Data Dictionary**\n",
    "This table explains the key variables used in this analysis.\n",
    "\n",
    "| **Column Name** | **Description** |\n",
    "|---------------|--------------------------------------|\n",
    "| `SEQN`       | Unique participant ID |\n",
    "| `RIAGENDR`   | Gender of the participant (1 = Male, 2 = Female) |\n",
    "| `Gender`     | Mapped gender label (Male or Female) |\n",
    "| `DR1TKCAL`   | Total calorie intake (kcal) |\n",
    "| `DR1TPROT`   | Total protein intake (grams) |\n",
    "| `DR1TCARB`   | Total carbohydrate intake (grams) |\n",
    "| `DR1TTFAT`   | Total fat intake (grams) |\n",
    "\n",
    "---\n",
    "\n",
    "## **How to Run This Notebook**\n",
    "To run the analysis on your local machine:\n",
    "1. Install the required Python libraries:\n",
    "   ```bash\n",
    "   pip install pandas numpy matplotlib seaborn scipy\n"
   ]
  },
  {
   "cell_type": "code",
   "execution_count": null,
   "id": "ad0540d3-8adf-4f05-a080-2dcc732c18b4",
   "metadata": {},
   "outputs": [],
   "source": []
  }
 ],
 "metadata": {
  "kernelspec": {
   "display_name": "Python 3 (ipykernel)",
   "language": "python",
   "name": "python3"
  },
  "language_info": {
   "codemirror_mode": {
    "name": "ipython",
    "version": 3
   },
   "file_extension": ".py",
   "mimetype": "text/x-python",
   "name": "python",
   "nbconvert_exporter": "python",
   "pygments_lexer": "ipython3",
   "version": "3.12.3"
  }
 },
 "nbformat": 4,
 "nbformat_minor": 5
}
